{
 "cells": [
  {
   "cell_type": "code",
   "execution_count": 5,
   "metadata": {},
   "outputs": [],
   "source": [
    "import pandas as pd\n",
    "\n",
    "\n",
    "# Load datasets for fight finish analysis\n",
    "df_finish_freq = pd.read_excel(\"fight_finish_quant.xlsx\")  # Finish method frequency data\n",
    "df_fighter = pd.read_csv(\"ufc_fight_data.csv\")  # Fighter-level data\n",
    "df_fights = pd.read_csv(\"ufc_fight_stat_data.csv\")  # Fight statistics dataset\n",
    "df_clean_fighters = pd.read_csv(\"clean_df_fighters.csv\")  # Cleaned fighter dataset"
   ]
  },
  {
   "cell_type": "code",
   "execution_count": 9,
   "metadata": {},
   "outputs": [
    {
     "name": "stdout",
     "output_type": "stream",
     "text": [
      "Index(['fight_id', 'event_id', 'referee', 'f_1', 'f_2', 'winner', 'num_rounds',\n",
      "       'title_fight', 'weight_class_x', 'gender', 'result', 'result_details',\n",
      "       'finish_round', 'finish_time', 'fight_url_x', 'fight_stat_id',\n",
      "       'fighter_id', 'knockdowns', 'total_strikes_att', 'total_strikes_succ',\n",
      "       'sig_strikes_att', 'sig_strikes_succ', 'takedown_att', 'takedown_succ',\n",
      "       'submission_att', 'reversals', 'ctrl_time', 'fight_url_y', 'full_name',\n",
      "       'fighter_nickname', 'fighter_height_cm', 'fighter_weight_lbs',\n",
      "       'fighter_reach_cm', 'fighter_stance', 'fighter_dob', 'fighter_w',\n",
      "       'fighter_l', 'fighter_d', 'fighter_nc_dq', 'fighter_url',\n",
      "       'weight_class_y', 'total_fights', 'win_rate'],\n",
      "      dtype='object')\n"
     ]
    }
   ],
   "source": [
    "# Merge fighter data with fight statistics using 'fight_id'\n",
    "merged_fight_id = pd.merge(df_fighter, df_fights, on=\"fight_id\", how=\"left\")\n",
    "\n",
    "# Merge with cleaned fighter dataset on 'fighter_id'\n",
    "merged_fight_id = pd.merge(merged_fight_id, df_clean_fighters, on=\"fighter_id\", how=\"left\")\n",
    "\n",
    "# Filter for male fighters only\n",
    "male_fighters = merged_fight_id[merged_fight_id[\"gender\"] != \"F\"]\n",
    "\n",
    "# Display available columns in the merged dataset\n",
    "print(male_fighters.columns)"
   ]
  },
  {
   "cell_type": "code",
   "execution_count": 10,
   "metadata": {},
   "outputs": [
    {
     "name": "stdout",
     "output_type": "stream",
     "text": [
      "Index(['fight_id', 'event_id', 'referee', 'f_1', 'f_2', 'winner', 'num_rounds',\n",
      "       'title_fight', 'weight_class_x', 'gender', 'result', 'result_details',\n",
      "       'finish_round', 'finish_time', 'fight_url_x', 'fight_stat_id',\n",
      "       'fighter_id', 'knockdowns', 'total_strikes_att', 'total_strikes_succ',\n",
      "       'sig_strikes_att', 'sig_strikes_succ', 'takedown_att', 'takedown_succ',\n",
      "       'submission_att', 'reversals', 'ctrl_time', 'fight_url_y', 'full_name',\n",
      "       'fighter_nickname', 'fighter_height_cm', 'fighter_weight_lbs',\n",
      "       'fighter_reach_cm', 'fighter_stance', 'fighter_dob', 'fighter_w',\n",
      "       'fighter_l', 'fighter_d', 'fighter_nc_dq', 'fighter_url',\n",
      "       'weight_class_y', 'total_fights', 'win_rate', 'Unnamed: 0',\n",
      "       'num_fights'],\n",
      "      dtype='object')\n"
     ]
    }
   ],
   "source": [
    "# Merge with finish frequency dataset on 'result_details'\n",
    "merged_with_quant = pd.merge(merged_fight_id, df_finish_freq, on=\"result_details\", how=\"left\")\n",
    "\n",
    "# Display available columns in the merged dataset\n",
    "print(merged_with_quant.columns)\n",
    "\n",
    "# Group data by weight class and gender, counting occurrences\n",
    "grouped_result_details_gender = merged_with_quant.groupby([\"weight_class_x\", \"result_details\", \"gender\"]).size().reset_index(name=\"count\")\n",
    "\n",
    "# Separate data for male and female fighters\n",
    "male_results = grouped_result_details_gender[grouped_result_details_gender[\"gender\"] == \"M\"]\n",
    "female_results = grouped_result_details_gender[grouped_result_details_gender[\"gender\"] == \"F\"]"
   ]
  },
  {
   "cell_type": "code",
   "execution_count": 11,
   "metadata": {},
   "outputs": [
    {
     "name": "stdout",
     "output_type": "stream",
     "text": [
      "      weight_class_x             result_details  count\n",
      "0       Bantamweight  Punch to Head At Distance    106\n",
      "1       Catch Weight           Rear Naked Choke     12\n",
      "2      Featherweight  Punch to Head At Distance    116\n",
      "3          Flyweight           Rear Naked Choke     62\n",
      "4        Heavyweight  Punch to Head At Distance    202\n",
      "5  Light Heavyweight  Punch to Head At Distance    162\n",
      "6        Lightweight           Rear Naked Choke    256\n",
      "7       Middleweight  Punch to Head At Distance    150\n",
      "8        Open Weight           Rear Naked Choke     12\n",
      "9       Welterweight  Punch to Head At Distance    208\n"
     ]
    }
   ],
   "source": [
    "# Exclude decision-based results (Unanimous, Split, Majority)\n",
    "finishes_only = male_results[~male_results[\"result_details\"].isin([\"Unanimous\", \"Split\", \"Majority\"])]\n",
    "\n",
    "# Sort by weight class and count (descending within each weight class)\n",
    "sorted_finishes = finishes_only.sort_values(by=[\"weight_class_x\", \"count\"], ascending=[True, False])\n",
    "\n",
    "# Get the most common finish per weight class\n",
    "most_common_finishes = sorted_finishes.groupby(\"weight_class_x\").head(1).reset_index(drop=True)\n",
    "\n",
    "# Drop gender column since it's no longer needed\n",
    "most_common_finishes = most_common_finishes.drop(columns=[\"gender\"])\n",
    "\n",
    "# Display results\n",
    "print(most_common_finishes)"
   ]
  },
  {
   "cell_type": "code",
   "execution_count": null,
   "metadata": {},
   "outputs": [],
   "source": []
  },
  {
   "cell_type": "code",
   "execution_count": null,
   "metadata": {},
   "outputs": [],
   "source": []
  },
  {
   "cell_type": "code",
   "execution_count": null,
   "metadata": {},
   "outputs": [],
   "source": []
  }
 ],
 "metadata": {
  "kernelspec": {
   "display_name": "base",
   "language": "python",
   "name": "python3"
  },
  "language_info": {
   "codemirror_mode": {
    "name": "ipython",
    "version": 3
   },
   "file_extension": ".py",
   "mimetype": "text/x-python",
   "name": "python",
   "nbconvert_exporter": "python",
   "pygments_lexer": "ipython3",
   "version": "3.12.4"
  }
 },
 "nbformat": 4,
 "nbformat_minor": 2
}
